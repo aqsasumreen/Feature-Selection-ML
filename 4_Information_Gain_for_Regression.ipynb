{
 "cells": [
  {
   "cell_type": "code",
   "id": "initial_id",
   "metadata": {
    "collapsed": true,
    "ExecuteTime": {
     "end_time": "2024-07-19T09:49:13.385430Z",
     "start_time": "2024-07-19T09:49:13.354092Z"
    }
   },
   "source": [
    "import pandas as pd\n",
    "import matplotlib.pyplot as plt\n",
    "df = pd.read_csv('diabetes.csv') ## dataset with no string entries is required"
   ],
   "outputs": [],
   "execution_count": 1
  },
  {
   "metadata": {
    "ExecuteTime": {
     "end_time": "2024-07-19T09:49:30.127181Z",
     "start_time": "2024-07-19T09:49:30.118143Z"
    }
   },
   "cell_type": "code",
   "source": [
    "X = df.drop(labels = ['Outcome'],  axis =1) # expect  TARGET , all are the independent features \n",
    "Y = df['Outcome']"
   ],
   "id": "14d27a4c1413189a",
   "outputs": [],
   "execution_count": 2
  },
  {
   "metadata": {},
   "cell_type": "code",
   "outputs": [],
   "execution_count": null,
   "source": "",
   "id": "ee7178fcbc600a5"
  },
  {
   "metadata": {},
   "cell_type": "markdown",
   "source": "#### train Test split",
   "id": "505d297e653a0431"
  },
  {
   "metadata": {
    "ExecuteTime": {
     "end_time": "2024-07-19T09:50:20.089292Z",
     "start_time": "2024-07-19T09:50:19.509160Z"
    }
   },
   "cell_type": "code",
   "source": [
    "from sklearn.model_selection import train_test_split\n",
    "X_train , X_test , Y_train , Y_test = train_test_split(X,Y , test_size= 0.2, random_state= 0)"
   ],
   "id": "47adf205b25ba9fb",
   "outputs": [],
   "execution_count": 3
  },
  {
   "metadata": {
    "ExecuteTime": {
     "end_time": "2024-07-19T09:50:30.443117Z",
     "start_time": "2024-07-19T09:50:30.418733Z"
    }
   },
   "cell_type": "code",
   "source": "X_train.shape, X_test.shape",
   "id": "cc6328561c9a82f3",
   "outputs": [
    {
     "data": {
      "text/plain": [
       "((614, 8), (154, 8))"
      ]
     },
     "execution_count": 4,
     "metadata": {},
     "output_type": "execute_result"
    }
   ],
   "execution_count": 4
  },
  {
   "metadata": {},
   "cell_type": "markdown",
   "source": "### Mutual Info regression",
   "id": "40ab872909e8fda2"
  },
  {
   "metadata": {
    "ExecuteTime": {
     "end_time": "2024-07-19T09:54:45.693593Z",
     "start_time": "2024-07-19T09:54:45.253358Z"
    }
   },
   "cell_type": "code",
   "source": [
    "from sklearn.feature_selection import mutual_info_regression\n",
    "mutual_info_reg = mutual_info_regression(X_train, Y_train)"
   ],
   "id": "c399d46c5ca94d9f",
   "outputs": [],
   "execution_count": 5
  },
  {
   "metadata": {
    "ExecuteTime": {
     "end_time": "2024-07-19T09:54:49.810772Z",
     "start_time": "2024-07-19T09:54:49.798279Z"
    }
   },
   "cell_type": "code",
   "source": "mutual_info_reg",
   "id": "af8baa73cf3294a8",
   "outputs": [
    {
     "data": {
      "text/plain": [
       "array([0.02381045, 0.13098623, 0.        , 0.        , 0.0035216 ,\n",
       "       0.08993635, 0.        , 0.07295351])"
      ]
     },
     "execution_count": 6,
     "metadata": {},
     "output_type": "execute_result"
    }
   ],
   "execution_count": 6
  },
  {
   "metadata": {},
   "cell_type": "markdown",
   "source": "#### To get values with features",
   "id": "147f9b183bea1379"
  },
  {
   "metadata": {
    "ExecuteTime": {
     "end_time": "2024-07-19T09:56:05.196431Z",
     "start_time": "2024-07-19T09:56:05.181118Z"
    }
   },
   "cell_type": "code",
   "source": [
    "mutual_info_reg = pd.Series(mutual_info_reg)\n",
    "mutual_info_reg.index = X_train.columns\n",
    "mutual_info_reg.sort_values(ascending=False)"
   ],
   "id": "fb7b293b9a8ea7f0",
   "outputs": [
    {
     "data": {
      "text/plain": [
       "Glucose                     0.130986\n",
       "BMI                         0.089936\n",
       "Age                         0.072954\n",
       "Pregnancies                 0.023810\n",
       "Insulin                     0.003522\n",
       "BloodPressure               0.000000\n",
       "SkinThickness               0.000000\n",
       "DiabetesPedigreeFunction    0.000000\n",
       "dtype: float64"
      ]
     },
     "execution_count": 7,
     "metadata": {},
     "output_type": "execute_result"
    }
   ],
   "execution_count": 7
  },
  {
   "metadata": {
    "ExecuteTime": {
     "end_time": "2024-07-19T10:02:12.031371Z",
     "start_time": "2024-07-19T10:02:11.954275Z"
    }
   },
   "cell_type": "code",
   "source": [
    "# to get top dependent features\n",
    "from sklearn.feature_selection import SelectPercentile\n",
    "sel_columns = SelectPercentile(mutual_info_regression, percentile= 20)\n",
    "sel_columns.fit(X_train, Y_train)\n",
    "X_train.columns[sel_columns.get_support()]  "
   ],
   "id": "c7fb2e7c34609a34",
   "outputs": [
    {
     "data": {
      "text/plain": [
       "Index(['Glucose', 'BMI'], dtype='object')"
      ]
     },
     "execution_count": 11,
     "metadata": {},
     "output_type": "execute_result"
    }
   ],
   "execution_count": 11
  },
  {
   "metadata": {},
   "cell_type": "code",
   "outputs": [],
   "execution_count": null,
   "source": "",
   "id": "ace20f8740ab66cf"
  }
 ],
 "metadata": {
  "kernelspec": {
   "display_name": "Python 3",
   "language": "python",
   "name": "python3"
  },
  "language_info": {
   "codemirror_mode": {
    "name": "ipython",
    "version": 2
   },
   "file_extension": ".py",
   "mimetype": "text/x-python",
   "name": "python",
   "nbconvert_exporter": "python",
   "pygments_lexer": "ipython2",
   "version": "2.7.6"
  }
 },
 "nbformat": 4,
 "nbformat_minor": 5
}
