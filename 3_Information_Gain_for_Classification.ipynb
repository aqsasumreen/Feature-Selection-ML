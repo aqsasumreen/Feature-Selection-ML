{
 "cells": [
  {
   "metadata": {},
   "cell_type": "markdown",
   "source": [
    "##### Mutual Information Gain -- Estimates Mutual information for discrete target variable,  MI between two random variables is a non-negative value , which measures the dependency between the variables , it is equal to zero if and only if two random variables are independent , and higher values means higher dependency and most imp the feature is. \n",
    "###### F-test captures only linear dependency ,MI captures any kind of dependency\n",
    "###### 2 random variables mean target feature and the independent feature\n"
   ],
   "id": "94755aa3b706a33e"
  },
  {
   "cell_type": "code",
   "id": "initial_id",
   "metadata": {
    "collapsed": true,
    "ExecuteTime": {
     "end_time": "2024-07-19T07:41:10.655633Z",
     "start_time": "2024-07-19T07:41:10.601584Z"
    }
   },
   "source": [
    "\n",
    "import pandas as pd\n",
    "import matplotlib.pyplot as plt\n",
    "df = pd.read_csv('diabetes.csv') ## dataset with no string entries is required"
   ],
   "outputs": [],
   "execution_count": 1
  },
  {
   "metadata": {},
   "cell_type": "markdown",
   "source": "##### train test split",
   "id": "926bb696ad9fd1a"
  },
  {
   "metadata": {
    "ExecuteTime": {
     "end_time": "2024-07-19T07:43:02.111838Z",
     "start_time": "2024-07-19T07:43:02.099913Z"
    }
   },
   "cell_type": "code",
   "source": [
    "X = df.drop(labels = ['Outcome'],  axis =1) # expect  TARGET , all are the independent features \n",
    "Y = df['Outcome']\n"
   ],
   "id": "87d3061a1b90f6fc",
   "outputs": [],
   "execution_count": 2
  },
  {
   "metadata": {
    "ExecuteTime": {
     "end_time": "2024-07-19T07:43:26.221600Z",
     "start_time": "2024-07-19T07:43:25.599264Z"
    }
   },
   "cell_type": "code",
   "source": [
    "# before any other task must perform this to avoid overfitting\n",
    "from sklearn.model_selection import train_test_split\n",
    "X_train , X_test , Y_train , Y_test = train_test_split(X,Y , test_size= 0.2, random_state= 0)"
   ],
   "id": "ba6b1a4b5542995d",
   "outputs": [],
   "execution_count": 3
  },
  {
   "metadata": {
    "ExecuteTime": {
     "end_time": "2024-07-19T07:43:34.999385Z",
     "start_time": "2024-07-19T07:43:34.983935Z"
    }
   },
   "cell_type": "code",
   "source": "X_train.shape, X_test.shape",
   "id": "72bf53a70bb9f764",
   "outputs": [
    {
     "data": {
      "text/plain": [
       "((614, 8), (154, 8))"
      ]
     },
     "execution_count": 4,
     "metadata": {},
     "output_type": "execute_result"
    }
   ],
   "execution_count": 4
  },
  {
   "metadata": {},
   "cell_type": "markdown",
   "source": "#### Apply mutual info classification",
   "id": "3de7e02b5f7084e0"
  },
  {
   "metadata": {
    "ExecuteTime": {
     "end_time": "2024-07-19T07:46:37.080160Z",
     "start_time": "2024-07-19T07:46:36.991279Z"
    }
   },
   "cell_type": "code",
   "source": [
    "from sklearn.feature_selection import mutual_info_classif\n",
    "mutual_info = mutual_info_classif(X_train, Y_train)"
   ],
   "id": "528d856107b71c90",
   "outputs": [],
   "execution_count": 6
  },
  {
   "metadata": {
    "ExecuteTime": {
     "end_time": "2024-07-19T07:46:43.197587Z",
     "start_time": "2024-07-19T07:46:43.186861Z"
    }
   },
   "cell_type": "code",
   "source": [
    "mutual_info # imp property of this that we will never get negative values either 0 or any positive\n",
    "# --> higher value means higher dependency on target feature"
   ],
   "id": "5b9c8520165a7a64",
   "outputs": [
    {
     "data": {
      "text/plain": [
       "array([0.01140748, 0.11424283, 0.        , 0.        , 0.03216422,\n",
       "       0.05745421, 0.        , 0.0659659 ])"
      ]
     },
     "execution_count": 7,
     "metadata": {},
     "output_type": "execute_result"
    }
   ],
   "execution_count": 7
  },
  {
   "metadata": {},
   "cell_type": "markdown",
   "source": "#### for getting column names with values",
   "id": "db75a254211b2136"
  },
  {
   "metadata": {
    "ExecuteTime": {
     "end_time": "2024-07-19T09:59:58.074368Z",
     "start_time": "2024-07-19T09:59:58.061568Z"
    }
   },
   "cell_type": "code",
   "source": [
    "mutual_info = pd.Series(mutual_info)\n",
    "mutual_info.index = X_train.columns\n",
    "mutual_info.sort_values(ascending=False)"
   ],
   "id": "479596b7ed33514b",
   "outputs": [
    {
     "data": {
      "text/plain": [
       "Glucose                     0.114243\n",
       "Age                         0.065966\n",
       "BMI                         0.057454\n",
       "Insulin                     0.032164\n",
       "Pregnancies                 0.011407\n",
       "BloodPressure               0.000000\n",
       "SkinThickness               0.000000\n",
       "DiabetesPedigreeFunction    0.000000\n",
       "dtype: float64"
      ]
     },
     "execution_count": 11,
     "metadata": {},
     "output_type": "execute_result"
    }
   ],
   "execution_count": 11
  },
  {
   "metadata": {},
   "cell_type": "code",
   "outputs": [],
   "execution_count": null,
   "source": "## Glucose has the highest dependency  on the target feature\n",
   "id": "620b19ce7a786385"
  },
  {
   "metadata": {
    "ExecuteTime": {
     "end_time": "2024-07-19T09:59:54.548666Z",
     "start_time": "2024-07-19T09:59:54.456504Z"
    }
   },
   "cell_type": "code",
   "source": [
    "# to get top dependent features\n",
    "from sklearn.feature_selection import SelectKBest\n",
    "sel_columns = SelectKBest(mutual_info_classif, k =3)\n",
    "sel_columns.fit(X_train, Y_train)\n",
    "X_train.columns[sel_columns.get_support()]"
   ],
   "id": "80ab167cb92d2d4f",
   "outputs": [
    {
     "data": {
      "text/plain": [
       "Index(['Glucose', 'BMI', 'Age'], dtype='object')"
      ]
     },
     "execution_count": 10,
     "metadata": {},
     "output_type": "execute_result"
    }
   ],
   "execution_count": 10
  },
  {
   "metadata": {},
   "cell_type": "code",
   "outputs": [],
   "execution_count": null,
   "source": "",
   "id": "37b24602973eea3a"
  }
 ],
 "metadata": {
  "kernelspec": {
   "display_name": "Python 3",
   "language": "python",
   "name": "python3"
  },
  "language_info": {
   "codemirror_mode": {
    "name": "ipython",
    "version": 2
   },
   "file_extension": ".py",
   "mimetype": "text/x-python",
   "name": "python",
   "nbconvert_exporter": "python",
   "pygments_lexer": "ipython2",
   "version": "2.7.6"
  }
 },
 "nbformat": 4,
 "nbformat_minor": 5
}
